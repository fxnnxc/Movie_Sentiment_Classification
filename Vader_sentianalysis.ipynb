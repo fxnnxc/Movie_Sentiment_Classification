{
  "nbformat": 4,
  "nbformat_minor": 0,
  "metadata": {
    "colab": {
      "name": "Vader_sentianalysis.ipynb",
      "provenance": [],
      "collapsed_sections": [],
      "authorship_tag": "ABX9TyP9ZjrDZMvtAgmOtm0t5Qev",
      "include_colab_link": true
    },
    "kernelspec": {
      "name": "python3",
      "display_name": "Python 3"
    }
  },
  "cells": [
    {
      "cell_type": "markdown",
      "metadata": {
        "id": "view-in-github",
        "colab_type": "text"
      },
      "source": [
        "<a href=\"https://colab.research.google.com/github/fxnnxc/Movie_Sentiment_Classification/blob/master/Vader_sentianalysis.ipynb\" target=\"_parent\"><img src=\"https://colab.research.google.com/assets/colab-badge.svg\" alt=\"Open In Colab\"/></a>"
      ]
    },
    {
      "cell_type": "code",
      "metadata": {
        "id": "3TSyIipPHgON",
        "colab_type": "code",
        "outputId": "84b09573-b646-4089-d79d-334a0cacd4d1",
        "colab": {
          "base_uri": "https://localhost:8080/",
          "height": 35
        }
      },
      "source": [
        "import nltk\n",
        "nltk.downloader.download('vader_lexicon')\n",
        "\n",
        "import re\n",
        "from nltk.sentiment.vader import SentimentIntensityAnalyzer\n",
        "import numpy as np\n",
        "\n",
        "def make_sent_list(trans_list):\n",
        "    sent_list = []\n",
        "    senti_analyzer = SentimentIntensityAnalyzer()\n",
        "    for i in trans_list:\n",
        "        score=senti_analyzer.polarity_scores(i)['compound']\n",
        "        sent_list.append(score)\n",
        "    return sent_list"
      ],
      "execution_count": 0,
      "outputs": [
        {
          "output_type": "stream",
          "text": [
            "[nltk_data] Downloading package vader_lexicon to /root/nltk_data...\n"
          ],
          "name": "stdout"
        }
      ]
    },
    {
      "cell_type": "code",
      "metadata": {
        "id": "xXN7qNTiHlDw",
        "colab_type": "code",
        "colab": {}
      },
      "source": [
        "sentences =\"\"\"\n",
        "Do you always have dinner at a different time, too?\n",
        " No. I almost always eat dinner around 6 o'clock. How about you? When do you eat dinner?\n",
        "My dinner time varies a lot just like my breakfast. So maybe I eat dinner later than most people. I think I would have dinner at 7:00 PM at the earliest. But sometimes, I will have dinner as late as 9 o'clock at night.\n",
        " Really?\n",
        "Yeah. I don't mind it. I really like cooking so, if I'm cooking a short thing, I'll have dinner earlier. But I don't mind if it takes two hours to cook something really good, I'll eat later at night.\n",
        "Wow. Can you tell me about your work routine? What time do you usually go to work?\n",
        "See, my work schedule is different everyday. That's why I wake up at a different time everyday. Maybe on – for example, some weeks on Monday, Wednesday and Thursday, I start work at 7:00. But on Thursday and Friday, I don't start work until 11:30.\n",
        "Ah.\n",
        "How about you? Do you have a different work time sometimes?\n",
        "Well, right now, I'm on maternity leave. So I stay home and take care of my new baby.\n",
        "Oh, congratulations.\n",
        "Thank you. I try to work at home a little bit everyday though. If the kids are sleeping or they're playing quietly, I try to do some work. Maybe around 2 o'clock, I can usually get some work done because the kids are sleeping.\n",
        "Oh, if you don't start getting some work done until 2 o'clock in the afternoon, you must be very busy every morning.\n",
        "Yeah. I usually go to the grocery store. Sometimes I take the kids to the park around 10:00 in the morning. I often do the laundry or wash the dishes, and then as soon as the dishes are washed, it's time to make lunch. So I'm busy all day.\n",
        "I see. So that's why your lunch time can change so much.\n",
        "Yeah.\n",
        "Oh, it sounds like a busy day.\n",
        "You are so bad\n",
        "killing is not good\n",
        "I love you\n",
        "\"\"\".strip().split('\\n')\n",
        "          "
      ],
      "execution_count": 0,
      "outputs": []
    },
    {
      "cell_type": "code",
      "metadata": {
        "id": "EIBIVdA3IiRi",
        "colab_type": "code",
        "outputId": "c43a2a6f-fa03-46be-98f2-6b08b220f429",
        "colab": {
          "base_uri": "https://localhost:8080/",
          "height": 669
        }
      },
      "source": [
        "import pandas as pd\n",
        "pd.set_option(\"display.max_colwidth\", 100)\n",
        "pd.DataFrame({'sentence':sentences, 'score':make_sent_list(sentences)})"
      ],
      "execution_count": 0,
      "outputs": [
        {
          "output_type": "execute_result",
          "data": {
            "text/html": [
              "<div>\n",
              "<style scoped>\n",
              "    .dataframe tbody tr th:only-of-type {\n",
              "        vertical-align: middle;\n",
              "    }\n",
              "\n",
              "    .dataframe tbody tr th {\n",
              "        vertical-align: top;\n",
              "    }\n",
              "\n",
              "    .dataframe thead th {\n",
              "        text-align: right;\n",
              "    }\n",
              "</style>\n",
              "<table border=\"1\" class=\"dataframe\">\n",
              "  <thead>\n",
              "    <tr style=\"text-align: right;\">\n",
              "      <th></th>\n",
              "      <th>sentence</th>\n",
              "      <th>score</th>\n",
              "    </tr>\n",
              "  </thead>\n",
              "  <tbody>\n",
              "    <tr>\n",
              "      <th>0</th>\n",
              "      <td>Do you always have dinner at a different time, too?</td>\n",
              "      <td>0.0000</td>\n",
              "    </tr>\n",
              "    <tr>\n",
              "      <th>1</th>\n",
              "      <td>No. I almost always eat dinner around 6 o'clock. How about you? When do you eat dinner?</td>\n",
              "      <td>-0.3736</td>\n",
              "    </tr>\n",
              "    <tr>\n",
              "      <th>2</th>\n",
              "      <td>My dinner time varies a lot just like my breakfast. So maybe I eat dinner later than most people...</td>\n",
              "      <td>0.3612</td>\n",
              "    </tr>\n",
              "    <tr>\n",
              "      <th>3</th>\n",
              "      <td>Really?</td>\n",
              "      <td>0.0000</td>\n",
              "    </tr>\n",
              "    <tr>\n",
              "      <th>4</th>\n",
              "      <td>Yeah. I don't mind it. I really like cooking so, if I'm cooking a short thing, I'll have dinner ...</td>\n",
              "      <td>0.8012</td>\n",
              "    </tr>\n",
              "    <tr>\n",
              "      <th>5</th>\n",
              "      <td>Wow. Can you tell me about your work routine? What time do you usually go to work?</td>\n",
              "      <td>0.6322</td>\n",
              "    </tr>\n",
              "    <tr>\n",
              "      <th>6</th>\n",
              "      <td>See, my work schedule is different everyday. That's why I wake up at a different time everyday. ...</td>\n",
              "      <td>0.0000</td>\n",
              "    </tr>\n",
              "    <tr>\n",
              "      <th>7</th>\n",
              "      <td>Ah.</td>\n",
              "      <td>0.0000</td>\n",
              "    </tr>\n",
              "    <tr>\n",
              "      <th>8</th>\n",
              "      <td>How about you? Do you have a different work time sometimes?</td>\n",
              "      <td>0.0000</td>\n",
              "    </tr>\n",
              "    <tr>\n",
              "      <th>9</th>\n",
              "      <td>Well, right now, I'm on maternity leave. So I stay home and take care of my new baby.</td>\n",
              "      <td>0.6249</td>\n",
              "    </tr>\n",
              "    <tr>\n",
              "      <th>10</th>\n",
              "      <td>Oh, congratulations.</td>\n",
              "      <td>0.5994</td>\n",
              "    </tr>\n",
              "    <tr>\n",
              "      <th>11</th>\n",
              "      <td>Thank you. I try to work at home a little bit everyday though. If the kids are sleeping or they'...</td>\n",
              "      <td>0.5106</td>\n",
              "    </tr>\n",
              "    <tr>\n",
              "      <th>12</th>\n",
              "      <td>Oh, if you don't start getting some work done until 2 o'clock in the afternoon, you must be very...</td>\n",
              "      <td>0.0000</td>\n",
              "    </tr>\n",
              "    <tr>\n",
              "      <th>13</th>\n",
              "      <td>Yeah. I usually go to the grocery store. Sometimes I take the kids to the park around 10:00 in t...</td>\n",
              "      <td>0.2960</td>\n",
              "    </tr>\n",
              "    <tr>\n",
              "      <th>14</th>\n",
              "      <td>I see. So that's why your lunch time can change so much.</td>\n",
              "      <td>0.0000</td>\n",
              "    </tr>\n",
              "    <tr>\n",
              "      <th>15</th>\n",
              "      <td>Yeah.</td>\n",
              "      <td>0.2960</td>\n",
              "    </tr>\n",
              "    <tr>\n",
              "      <th>16</th>\n",
              "      <td>Oh, it sounds like a busy day.</td>\n",
              "      <td>0.3612</td>\n",
              "    </tr>\n",
              "    <tr>\n",
              "      <th>17</th>\n",
              "      <td>You are so bad</td>\n",
              "      <td>-0.6696</td>\n",
              "    </tr>\n",
              "    <tr>\n",
              "      <th>18</th>\n",
              "      <td>killing is not good</td>\n",
              "      <td>-0.7786</td>\n",
              "    </tr>\n",
              "    <tr>\n",
              "      <th>19</th>\n",
              "      <td>I love you</td>\n",
              "      <td>0.6369</td>\n",
              "    </tr>\n",
              "  </tbody>\n",
              "</table>\n",
              "</div>"
            ],
            "text/plain": [
              "                                                                                               sentence   score\n",
              "0                                                   Do you always have dinner at a different time, too?  0.0000\n",
              "1               No. I almost always eat dinner around 6 o'clock. How about you? When do you eat dinner? -0.3736\n",
              "2   My dinner time varies a lot just like my breakfast. So maybe I eat dinner later than most people...  0.3612\n",
              "3                                                                                               Really?  0.0000\n",
              "4   Yeah. I don't mind it. I really like cooking so, if I'm cooking a short thing, I'll have dinner ...  0.8012\n",
              "5                    Wow. Can you tell me about your work routine? What time do you usually go to work?  0.6322\n",
              "6   See, my work schedule is different everyday. That's why I wake up at a different time everyday. ...  0.0000\n",
              "7                                                                                                   Ah.  0.0000\n",
              "8                                           How about you? Do you have a different work time sometimes?  0.0000\n",
              "9                 Well, right now, I'm on maternity leave. So I stay home and take care of my new baby.  0.6249\n",
              "10                                                                                 Oh, congratulations.  0.5994\n",
              "11  Thank you. I try to work at home a little bit everyday though. If the kids are sleeping or they'...  0.5106\n",
              "12  Oh, if you don't start getting some work done until 2 o'clock in the afternoon, you must be very...  0.0000\n",
              "13  Yeah. I usually go to the grocery store. Sometimes I take the kids to the park around 10:00 in t...  0.2960\n",
              "14                                             I see. So that's why your lunch time can change so much.  0.0000\n",
              "15                                                                                                Yeah.  0.2960\n",
              "16                                                                       Oh, it sounds like a busy day.  0.3612\n",
              "17                                                                                       You are so bad -0.6696\n",
              "18                                                                                  killing is not good -0.7786\n",
              "19                                                                                           I love you  0.6369"
            ]
          },
          "metadata": {
            "tags": []
          },
          "execution_count": 37
        }
      ]
    },
    {
      "cell_type": "code",
      "metadata": {
        "id": "G9PPYaXVJtf0",
        "colab_type": "code",
        "colab": {}
      },
      "source": [
        ""
      ],
      "execution_count": 0,
      "outputs": []
    }
  ]
}