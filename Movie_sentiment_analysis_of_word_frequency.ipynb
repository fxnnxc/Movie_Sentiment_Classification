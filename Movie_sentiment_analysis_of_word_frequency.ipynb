{
  "nbformat": 4,
  "nbformat_minor": 0,
  "metadata": {
    "colab": {
      "name": "Movie_sentiment_analysis_of_word_frequency.ipynb",
      "provenance": [],
      "mount_file_id": "14DuEaIR5yO3KoIYjEyNPO38Fuz7PDiND",
      "authorship_tag": "ABX9TyObMqiVh7o0EMUURVHv03TA",
      "include_colab_link": true
    },
    "kernelspec": {
      "name": "python3",
      "display_name": "Python 3"
    }
  },
  "cells": [
    {
      "cell_type": "markdown",
      "metadata": {
        "id": "view-in-github",
        "colab_type": "text"
      },
      "source": [
        "<a href=\"https://colab.research.google.com/github/fxnnxc/Movie_Sentiment_Classification/blob/master/Movie_sentiment_analysis_of_word_frequency.ipynb\" target=\"_parent\"><img src=\"https://colab.research.google.com/assets/colab-badge.svg\" alt=\"Open In Colab\"/></a>"
      ]
    },
    {
      "cell_type": "markdown",
      "metadata": {
        "id": "TsBdmbT_Kz5s",
        "colab_type": "text"
      },
      "source": [
        "# Word Frequency Research "
      ]
    },
    {
      "cell_type": "code",
      "metadata": {
        "id": "u0K3k7AdxvPl",
        "colab_type": "code",
        "colab": {}
      },
      "source": [
        "# Import data\n",
        "import matplotlib.pyplot as plt\n",
        "import pandas as pd \n",
        "import re\n",
        "\n",
        "data = pd.read_csv('/content/drive/My Drive/MovieSentiment/IMDB Dataset.csv')"
      ],
      "execution_count": 0,
      "outputs": []
    },
    {
      "cell_type": "code",
      "metadata": {
        "id": "I_Rik9oMx5cw",
        "colab_type": "code",
        "colab": {}
      },
      "source": [
        "# Preprocessing\n",
        "from nltk.stem import PorterStemmer\n",
        "\n",
        "# Cleansing\n",
        "def clean_text(string):\n",
        "  string = re.sub(pattern= '<[^>]*>', repl='', string=string)  # 태그 제거\n",
        "  string = re.sub(pattern= '[^\\w\\s]',  repl='', string=string)  # 특수문자 제거\n",
        "  return string\n",
        "\n",
        "# Stemming\n",
        "def stemming_text(string):\n",
        "  s = PorterStemmer()\n",
        "  string = string.split()\n",
        "  string = \" \".join([s.stem(w) for w in string])\n",
        "  return string\n",
        "\n",
        "def category(v):\n",
        "  if v =='positive': \n",
        "    return 1\n",
        "  else:\n",
        "    return 0\n",
        "\n",
        "# Preprocessing\n",
        "for i,d in enumerate(data['review']):\n",
        "  string = d.lower()\n",
        "  string = clean_text(string)\n",
        "  #string = stemming_text(string)\n",
        "  data.iloc[i, 0] =  string\n"
      ],
      "execution_count": 0,
      "outputs": []
    },
    {
      "cell_type": "code",
      "metadata": {
        "id": "FPfNjnypx6zv",
        "colab_type": "code",
        "colab": {}
      },
      "source": [
        "import re\n",
        "\n",
        "word_dict = {}\n",
        "\n",
        "number = 0 \n",
        "for d in data['review']:\n",
        "  sent = d.split(' ')\n",
        "  for w in sent:\n",
        "      if w in word_dict:\n",
        "        word_dict[w][1] +=1\n",
        "      else:\n",
        "        word_dict[w] = [number, 1]\n",
        "        number+=1"
      ],
      "execution_count": 0,
      "outputs": []
    },
    {
      "cell_type": "code",
      "metadata": {
        "id": "nW_j8c1nyANP",
        "colab_type": "code",
        "outputId": "ca611517-17ac-43e8-af15-2d9fa4ee162b",
        "colab": {
          "base_uri": "https://localhost:8080/",
          "height": 52
        }
      },
      "source": [
        "# Number of Sentences S\n",
        "# Number of Classes N\n",
        "\n",
        "# Assumes there are more than 100 sentencces\n",
        "S = len(data)\n",
        "low  = 0.05*S\n",
        "high = 1.0*S\n",
        "\n",
        "word_dict2 = {}\n",
        "number = 0\n",
        "for w in word_dict:\n",
        "  if low < word_dict[w][1] < high:\n",
        "    word_dict2[w] = word_dict[w]\n",
        "    word_dict2[w][0] = number\n",
        "    number+=1\n",
        "\n",
        "print(len(word_dict))\n",
        "print(len(word_dict2))\n"
      ],
      "execution_count": 0,
      "outputs": [
        {
          "output_type": "stream",
          "text": [
            "223234\n",
            "450\n"
          ],
          "name": "stdout"
        }
      ]
    },
    {
      "cell_type": "code",
      "metadata": {
        "id": "TG7VrQeQyFLJ",
        "colab_type": "code",
        "outputId": "4e90f12f-04f7-4e63-d86f-8eaab9ab8042",
        "colab": {
          "base_uri": "https://localhost:8080/",
          "height": 52
        }
      },
      "source": [
        "import numpy as np\n",
        "from sklearn.preprocessing import MinMaxScaler\n",
        "\n",
        "def category(v):\n",
        "  if v =='positive': \n",
        "    return 1\n",
        "  else:\n",
        "    return 0\n",
        "\n",
        "y = np.array(list(map(category, data['sentiment'])))\n",
        "x = np.zeros((len(data), len(word_dict2)))\n",
        "\n",
        "# Make X\n",
        "for i, d in enumerate(data['review']):\n",
        "  sent = d.split(' ')\n",
        "  for w in sent:\n",
        "      try:\n",
        "        index  = word_dict2[w][0]\n",
        "        x[i, index] +=1   \n",
        "      except:\n",
        "        pass\n",
        "\n",
        "# Normalize\n",
        "\n",
        "scaler = MinMaxScaler()\n",
        "scaler.fit(x)\n",
        "x = scaler.transform(x)\n",
        "print(f\"X:{x.shape}\")\n",
        "print(f\"y:{y.shape}\")"
      ],
      "execution_count": 0,
      "outputs": [
        {
          "output_type": "stream",
          "text": [
            "X:(50000, 450)\n",
            "y:(50000,)\n"
          ],
          "name": "stdout"
        }
      ]
    },
    {
      "cell_type": "code",
      "metadata": {
        "id": "UJbo6b-2yIlP",
        "colab_type": "code",
        "outputId": "5650eaf0-7690-462c-a379-7409ddfddfcd",
        "colab": {
          "base_uri": "https://localhost:8080/",
          "height": 87
        }
      },
      "source": [
        "# Models \n",
        "from sklearn.svm import LinearSVC\n",
        "from sklearn.neighbors import KNeighborsClassifier\n",
        "from sklearn.naive_bayes import GaussianNB\n",
        "from sklearn import tree\n",
        "from sklearn.ensemble import RandomForestClassifier\n",
        "from sklearn.model_selection import train_test_split\n",
        "from sklearn.metrics import accuracy_score\n",
        "\n",
        "X_train, X_test, y_train, y_test = train_test_split(x, y, test_size=.3,random_state=0)\n",
        "\n",
        "\n",
        "svc = LinearSVC(random_state=0, tol=1e-5, verbose=1)\n",
        "gaunb = GaussianNB()\n",
        "dt = tree.DecisionTreeClassifier()\n",
        "rf = RandomForestClassifier()\n",
        "\n",
        "# Training \n",
        "\n",
        "\n",
        "svc.fit(X_train, y_train).decision_function(X_test)\n",
        "print(f\"SVC Accuracy: {accuracy_score(svc.predict(X_test),y_test)}\")\n",
        "gaunb.fit(X_train, y_train)\n",
        "print(f\"GNB Accuracy: {accuracy_score(gaunb.predict(X_test),y_test)}\")\n",
        "dt.fit(X_train, y_train)\n",
        "print(f\"DT Accuracy: {accuracy_score(dt.predict(X_test),y_test)}\")\n",
        "rf.fit(X_train, y_train)\n",
        "print(f\"RF Accuracy: {accuracy_score(rf.predict(X_test),y_test)}\")"
      ],
      "execution_count": 0,
      "outputs": [
        {
          "output_type": "stream",
          "text": [
            "[LibLinear]SVC Accuracy: 0.8283333333333334\n",
            "GNB Accuracy: 0.7903333333333333\n",
            "DT Accuracy: 0.6966666666666667\n",
            "RF Accuracy: 0.7990666666666667\n"
          ],
          "name": "stdout"
        }
      ]
    },
    {
      "cell_type": "code",
      "metadata": {
        "id": "bkHf7NlR8ksN",
        "colab_type": "code",
        "outputId": "576eeeaa-2b27-474f-e1ec-4dcadacb5fc9",
        "colab": {
          "base_uri": "https://localhost:8080/",
          "height": 443
        }
      },
      "source": [
        "# Training result with many conditions\n",
        "\n",
        "import matplotlib.pyplot as plt\n",
        "import pandas as pd\n",
        "\n",
        "string = \"\"\"|0.001S ~ S|10959|0.865|0.732|0.721|0.849|\n",
        "|0.002S ~ S|6769|0.870|0.748|0.718|0.844|\n",
        "|0.003S ~ S|5042|0.873|0.763|0.718|0.844|\n",
        "|0.004S ~ S|4052|0.874|0.779|0.716|0.844|\n",
        "|0.005S ~ S|3355|0.874|0.778|0.711|0.841|\n",
        "|0.006S ~ S|2911|0.874|0.788|0.715|0.838|\n",
        "|0.007S ~ S|2592|0.872|0.788|0.715|0.833|\n",
        "|0.008S ~ S|2307|0.870|0.785|0.713|0.833|\n",
        "|0.009S ~ S|2095|0.868|0.789|0.713|0.836|\n",
        "|0.010S ~ S|1901|0.868|0.789|0.715|0.834|\n",
        "|0.011S ~ S|1751|0.868|0.796|0.712|0.833|\n",
        "|0.012S ~ S|1635|0.866|0.799|0.710|0.831|\n",
        "|0.013S ~ S|1529|0.869|0.803|0.708|0.832|\n",
        "|0.014S ~ S|1426|0.866|0.808|0.709|0.834|\n",
        "|0.015S ~ S|1346|0.864|0.810|0.708|0.827|\n",
        "|0.016S ~ S|1272|0.861|0.811|0.709|0.830|\n",
        "|0.017S ~ S|1206|0.860|0.813|0.710|0.825|\n",
        "|0.018S ~ S|1148|0.858|0.815|0.708|0.826|\n",
        "|0.020S ~ S|1057|0.856|0.813|0.710|0.825|\n",
        "|0.023S ~ S|947 |0.855|0.814|0.705|0.829|\n",
        "|0.025S ~ S|876 |0.852|0.811|0.703|0.821|\n",
        "|0.030S ~ S|739 |0.846|0.804|0.701|0.814|\n",
        "|0.040S ~ S|550 |0.837|0.802|0.697|0.809|\n",
        "|0.050S ~ S|450 |0.828|0.790|0.696|0.799|\"\"\"\n",
        "\n",
        "data = pd.DataFrame(columns = [\"Hypothesis\", \"Number of words\",\"SVC\",\"GNB\",\"DT\",\"RF\" ])\n",
        "for r in string.split('\\n'):\n",
        "  temp = []\n",
        "  for s in r.split('|'):\n",
        "      temp.append(s)\n",
        "  print(temp)\n",
        "  data =data.append(pd.Series(temp[1:-1],index=data.columns), ignore_index=True)\n"
      ],
      "execution_count": 0,
      "outputs": [
        {
          "output_type": "stream",
          "text": [
            "['', '0.001S ~ S', '10959', '0.865', '0.732', '0.721', '0.849', '']\n",
            "['', '0.002S ~ S', '6769', '0.870', '0.748', '0.718', '0.844', '']\n",
            "['', '0.003S ~ S', '5042', '0.873', '0.763', '0.718', '0.844', '']\n",
            "['', '0.004S ~ S', '4052', '0.874', '0.779', '0.716', '0.844', '']\n",
            "['', '0.005S ~ S', '3355', '0.874', '0.778', '0.711', '0.841', '']\n",
            "['', '0.006S ~ S', '2911', '0.874', '0.788', '0.715', '0.838', '']\n",
            "['', '0.007S ~ S', '2592', '0.872', '0.788', '0.715', '0.833', '']\n",
            "['', '0.008S ~ S', '2307', '0.870', '0.785', '0.713', '0.833', '']\n",
            "['', '0.009S ~ S', '2095', '0.868', '0.789', '0.713', '0.836', '']\n",
            "['', '0.010S ~ S', '1901', '0.868', '0.789', '0.715', '0.834', '']\n",
            "['', '0.011S ~ S', '1751', '0.868', '0.796', '0.712', '0.833', '']\n",
            "['', '0.012S ~ S', '1635', '0.866', '0.799', '0.710', '0.831', '']\n",
            "['', '0.013S ~ S', '1529', '0.869', '0.803', '0.708', '0.832', '']\n",
            "['', '0.014S ~ S', '1426', '0.866', '0.808', '0.709', '0.834', '']\n",
            "['', '0.015S ~ S', '1346', '0.864', '0.810', '0.708', '0.827', '']\n",
            "['', '0.016S ~ S', '1272', '0.861', '0.811', '0.709', '0.830', '']\n",
            "['', '0.017S ~ S', '1206', '0.860', '0.813', '0.710', '0.825', '']\n",
            "['', '0.018S ~ S', '1148', '0.858', '0.815', '0.708', '0.826', '']\n",
            "['', '0.020S ~ S', '1057', '0.856', '0.813', '0.710', '0.825', '']\n",
            "['', '0.023S ~ S', '947 ', '0.855', '0.814', '0.705', '0.829', '']\n",
            "['', '0.025S ~ S', '876 ', '0.852', '0.811', '0.703', '0.821', '']\n",
            "['', '0.030S ~ S', '739 ', '0.846', '0.804', '0.701', '0.814', '']\n",
            "['', '0.040S ~ S', '550 ', '0.837', '0.802', '0.697', '0.809', '']\n",
            "['', '0.050S ~ S', '450 ', '0.828', '0.790', '0.696', '0.799', '']\n"
          ],
          "name": "stdout"
        }
      ]
    },
    {
      "cell_type": "code",
      "metadata": {
        "id": "L5RJsichlVTE",
        "colab_type": "code",
        "colab": {}
      },
      "source": [
        "data =data.astype({'SVC':float, 'GNB':float, 'DT':float, 'RF':float})"
      ],
      "execution_count": 0,
      "outputs": []
    },
    {
      "cell_type": "code",
      "metadata": {
        "id": "CLyrHspQn0ko",
        "colab_type": "code",
        "outputId": "ffbdd54e-ddf7-46fc-d5ef-8f6ce0a2b3b5",
        "colab": {
          "base_uri": "https://localhost:8080/",
          "height": 537
        }
      },
      "source": [
        "import seaborn as sns\n",
        "\n",
        "index = data['Number of words']\n",
        "\n",
        "plt.figure(figsize=(14,8))\n",
        "sns.set_style(\"whitegrid\")\n",
        "for i in range(4):\n",
        "  plt.plot(index, data[data.columns[2+i]])\n",
        "plt.legend(data.columns[2:])\n",
        "plt.xticks(rotation=70)\n",
        "plt.xlabel('Number of Words')\n",
        "plt.ylabel('Accuracy')\n",
        "\n"
      ],
      "execution_count": 0,
      "outputs": [
        {
          "output_type": "execute_result",
          "data": {
            "text/plain": [
              "Text(0, 0.5, 'Accuracy')"
            ]
          },
          "metadata": {
            "tags": []
          },
          "execution_count": 142
        },
        {
          "output_type": "display_data",
          "data": {
            "image/png": "[encoded data removed]",
            "text/plain": [
              "<Figure size 1008x576 with 1 Axes>"
            ]
          },
          "metadata": {
            "tags": []
          }
        }
      ]
    },
    {
      "cell_type": "code",
      "metadata": {
        "id": "4ck_umjen8Kg",
        "colab_type": "code",
        "colab": {}
      },
      "source": [
        ""
      ],
      "execution_count": 0,
      "outputs": []
    }
  ]
}