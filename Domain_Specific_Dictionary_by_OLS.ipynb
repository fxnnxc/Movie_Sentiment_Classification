{
  "nbformat": 4,
  "nbformat_minor": 0,
  "metadata": {
    "colab": {
      "name": "Domain-Specific Dictionary by OLS.ipynb",
      "provenance": [],
      "collapsed_sections": [],
      "mount_file_id": "1GN1OVUikrMGZQp4ggiwnvg7zZj4yw0W5",
      "authorship_tag": "ABX9TyMvqMH725glF8+Akhxj7N73",
      "include_colab_link": true
    },
    "kernelspec": {
      "name": "python3",
      "display_name": "Python 3"
    }
  },
  "cells": [
    {
      "cell_type": "markdown",
      "metadata": {
        "id": "view-in-github",
        "colab_type": "text"
      },
      "source": [
        "<a href=\"https://colab.research.google.com/github/fxnnxc/Movie_Sentiment_Classification/blob/master/Domain_Specific_Dictionary_by_OLS.ipynb\" target=\"_parent\"><img src=\"https://colab.research.google.com/assets/colab-badge.svg\" alt=\"Open In Colab\"/></a>"
      ]
    },
    {
      "cell_type": "markdown",
      "metadata": {
        "id": "heI-rTvTl2HW",
        "colab_type": "text"
      },
      "source": [
        "# Domain Specific Dictionary by OLS\n",
        "\n",
        "* data: movie reviews with sentiment score"
      ]
    },
    {
      "cell_type": "code",
      "metadata": {
        "id": "bXb8E5MvmAEi",
        "colab_type": "code",
        "colab": {}
      },
      "source": [
        "import pandas as pd \n",
        "import re\n",
        "\n",
        "data = pd.read_csv('/content/drive/My Drive/MovieSentiment/IMDB Dataset.csv')"
      ],
      "execution_count": 0,
      "outputs": []
    },
    {
      "cell_type": "code",
      "metadata": {
        "id": "JkjW6ZDdmPdu",
        "colab_type": "code",
        "outputId": "3cb50b06-24b9-4ee5-955c-9f78b05c6736",
        "colab": {
          "base_uri": "https://localhost:8080/",
          "height": 167
        }
      },
      "source": [
        "data.describe()"
      ],
      "execution_count": 0,
      "outputs": [
        {
          "output_type": "execute_result",
          "data": {
            "text/html": [
              "<div>\n",
              "<style scoped>\n",
              "    .dataframe tbody tr th:only-of-type {\n",
              "        vertical-align: middle;\n",
              "    }\n",
              "\n",
              "    .dataframe tbody tr th {\n",
              "        vertical-align: top;\n",
              "    }\n",
              "\n",
              "    .dataframe thead th {\n",
              "        text-align: right;\n",
              "    }\n",
              "</style>\n",
              "<table border=\"1\" class=\"dataframe\">\n",
              "  <thead>\n",
              "    <tr style=\"text-align: right;\">\n",
              "      <th></th>\n",
              "      <th>review</th>\n",
              "      <th>sentiment</th>\n",
              "    </tr>\n",
              "  </thead>\n",
              "  <tbody>\n",
              "    <tr>\n",
              "      <th>count</th>\n",
              "      <td>50000</td>\n",
              "      <td>50000</td>\n",
              "    </tr>\n",
              "    <tr>\n",
              "      <th>unique</th>\n",
              "      <td>49582</td>\n",
              "      <td>2</td>\n",
              "    </tr>\n",
              "    <tr>\n",
              "      <th>top</th>\n",
              "      <td>Loved today's show!!! It was a variety and not...</td>\n",
              "      <td>negative</td>\n",
              "    </tr>\n",
              "    <tr>\n",
              "      <th>freq</th>\n",
              "      <td>5</td>\n",
              "      <td>25000</td>\n",
              "    </tr>\n",
              "  </tbody>\n",
              "</table>\n",
              "</div>"
            ],
            "text/plain": [
              "                                                   review sentiment\n",
              "count                                               50000     50000\n",
              "unique                                              49582         2\n",
              "top     Loved today's show!!! It was a variety and not...  negative\n",
              "freq                                                    5     25000"
            ]
          },
          "metadata": {
            "tags": []
          },
          "execution_count": 79
        }
      ]
    },
    {
      "cell_type": "markdown",
      "metadata": {
        "id": "5ClKYo7VlyRU",
        "colab_type": "text"
      },
      "source": [
        "## Preprocessing\n",
        "\n",
        "1. Cleansing\n",
        "  * remove tags\n",
        "  * special characters\n",
        "  * Upper case --> Lower case\n",
        "\n",
        "\n",
        "2. Stemming \n",
        "  * enjoying -> enjoy\n",
        "  * did -> do"
      ]
    },
    {
      "cell_type": "code",
      "metadata": {
        "id": "jgRf0OCgnpOk",
        "colab_type": "code",
        "colab": {}
      },
      "source": [
        "from nltk.stem import PorterStemmer\n",
        "\n",
        "# Cleansing\n",
        "def clean_text(string):\n",
        "  string = re.sub(pattern= '<[^>]*>', repl='', string=string)  # 태그 제거\n",
        "  string = re.sub(pattern= '[^\\w\\s]',  repl='', string=string)  # 특수문자 제거\n",
        "  return string\n",
        "\n",
        "# Stemming\n",
        "def stemming_text(string):\n",
        "  s = PorterStemmer()\n",
        "  string = string.split()\n",
        "  string = \" \".join([s.stem(w) for w in string])\n",
        "  return string\n",
        "\n",
        "# Preprocessing\n",
        "for i,d in enumerate(data['review']):\n",
        "  string = d.lower()\n",
        "  string = clean_text(string)\n",
        "  #string = stemming_text(string)\n",
        "  data.iloc[i, 0] =  string\n"
      ],
      "execution_count": 0,
      "outputs": []
    },
    {
      "cell_type": "code",
      "metadata": {
        "id": "yGUfM9xQwmve",
        "colab_type": "code",
        "outputId": "9fa1fe24-a4fb-4752-9040-49fa02c1b448",
        "colab": {
          "base_uri": "https://localhost:8080/",
          "height": 197
        }
      },
      "source": [
        "data.head()"
      ],
      "execution_count": 0,
      "outputs": [
        {
          "output_type": "execute_result",
          "data": {
            "text/html": [
              "<div>\n",
              "<style scoped>\n",
              "    .dataframe tbody tr th:only-of-type {\n",
              "        vertical-align: middle;\n",
              "    }\n",
              "\n",
              "    .dataframe tbody tr th {\n",
              "        vertical-align: top;\n",
              "    }\n",
              "\n",
              "    .dataframe thead th {\n",
              "        text-align: right;\n",
              "    }\n",
              "</style>\n",
              "<table border=\"1\" class=\"dataframe\">\n",
              "  <thead>\n",
              "    <tr style=\"text-align: right;\">\n",
              "      <th></th>\n",
              "      <th>review</th>\n",
              "      <th>sentiment</th>\n",
              "    </tr>\n",
              "  </thead>\n",
              "  <tbody>\n",
              "    <tr>\n",
              "      <th>0</th>\n",
              "      <td>one of the other reviewers has mentioned that ...</td>\n",
              "      <td>positive</td>\n",
              "    </tr>\n",
              "    <tr>\n",
              "      <th>1</th>\n",
              "      <td>a wonderful little production the filming tech...</td>\n",
              "      <td>positive</td>\n",
              "    </tr>\n",
              "    <tr>\n",
              "      <th>2</th>\n",
              "      <td>i thought this was a wonderful way to spend ti...</td>\n",
              "      <td>positive</td>\n",
              "    </tr>\n",
              "    <tr>\n",
              "      <th>3</th>\n",
              "      <td>basically theres a family where a little boy j...</td>\n",
              "      <td>negative</td>\n",
              "    </tr>\n",
              "    <tr>\n",
              "      <th>4</th>\n",
              "      <td>petter matteis love in the time of money is a ...</td>\n",
              "      <td>positive</td>\n",
              "    </tr>\n",
              "  </tbody>\n",
              "</table>\n",
              "</div>"
            ],
            "text/plain": [
              "                                              review sentiment\n",
              "0  one of the other reviewers has mentioned that ...  positive\n",
              "1  a wonderful little production the filming tech...  positive\n",
              "2  i thought this was a wonderful way to spend ti...  positive\n",
              "3  basically theres a family where a little boy j...  negative\n",
              "4  petter matteis love in the time of money is a ...  positive"
            ]
          },
          "metadata": {
            "tags": []
          },
          "execution_count": 81
        }
      ]
    },
    {
      "cell_type": "code",
      "metadata": {
        "id": "b3MTl7cKveVl",
        "colab_type": "code",
        "colab": {}
      },
      "source": [
        "import re\n",
        "\n",
        "word_dict = {}\n",
        "\n",
        "number = 0 \n",
        "for d in data['review']:\n",
        "  sent = d.split(' ')\n",
        "  for w in sent:\n",
        "      if w in word_dict:\n",
        "        word_dict[w][1] +=1\n",
        "      else:\n",
        "        word_dict[w] = [number, 1]\n",
        "        number+=1"
      ],
      "execution_count": 0,
      "outputs": []
    },
    {
      "cell_type": "code",
      "metadata": {
        "id": "eNHQhw_bl0nr",
        "colab_type": "code",
        "outputId": "12e5f005-6ab7-4aaa-9328-b4fc4615cf72",
        "colab": {
          "base_uri": "https://localhost:8080/",
          "height": 176
        }
      },
      "source": [
        "print(f\"unique words: {len(word_dict)}\")\n",
        "print(\"------------------\")\n",
        "print(\"WORD  :  COUNT \")\n",
        "for i in range(5):\n",
        "  print(list(word_dict.items())[i])\n",
        "print(\"------------------\")"
      ],
      "execution_count": 0,
      "outputs": [
        {
          "output_type": "stream",
          "text": [
            "unique words: 223234\n",
            "------------------\n",
            "WORD  :  COUNT \n",
            "('one', [0, 50358])\n",
            "('of', [1, 288060])\n",
            "('the', [2, 650554])\n",
            "('other', [3, 17773])\n",
            "('reviewers', [4, 500])\n",
            "------------------\n"
          ],
          "name": "stdout"
        }
      ]
    },
    {
      "cell_type": "code",
      "metadata": {
        "id": "8U8CcX7FnYa-",
        "colab_type": "code",
        "colab": {}
      },
      "source": [
        "LOWER = 300\n",
        "UPPER = 50005\n",
        "word_dict2 = {}\n",
        "number = 0\n",
        "for w in word_dict:\n",
        "  if LOWER < word_dict[w][1] < UPPER:\n",
        "    word_dict2[w] = word_dict[w]\n",
        "    word_dict2[w][0] = number\n",
        "    number+=1"
      ],
      "execution_count": 0,
      "outputs": []
    },
    {
      "cell_type": "code",
      "metadata": {
        "id": "FszuVjbrnGik",
        "colab_type": "code",
        "outputId": "1977bb6b-b12d-4321-837a-483d6b72cf5b",
        "colab": {
          "base_uri": "https://localhost:8080/",
          "height": 194
        }
      },
      "source": [
        "for i in range(10):\n",
        "  print(list(word_dict2.values())[i])"
      ],
      "execution_count": 0,
      "outputs": [
        {
          "output_type": "stream",
          "text": [
            "[0, 17773]\n",
            "[1, 500]\n",
            "[2, 32881]\n",
            "[3, 1029]\n",
            "[4, 14397]\n",
            "[5, 8920]\n",
            "[6, 34669]\n",
            "[7, 2308]\n",
            "[8, 3039]\n",
            "[9, 2604]\n"
          ],
          "name": "stdout"
        }
      ]
    },
    {
      "cell_type": "markdown",
      "metadata": {
        "id": "DdnPshe5vz-R",
        "colab_type": "text"
      },
      "source": [
        "# Ordinary Least Square\n",
        "\n",
        "Example of data\n",
        "\n",
        " || happy | sad| ... | Good| y|\n",
        " |---|---|---|---|---| ---|\n",
        " X1| 4 |3|2|0|  0\n",
        " X2| 0 |2|5|1| 1\n",
        " X3| 2 |3|8|9|   0\n",
        " X4| 1 |2|2|1| 0\n",
        "\n"
      ]
    },
    {
      "cell_type": "code",
      "metadata": {
        "id": "DuHeN3Bwv9cq",
        "colab_type": "code",
        "outputId": "c3403fd4-315f-405f-f6d3-643d7473ef23",
        "colab": {
          "base_uri": "https://localhost:8080/",
          "height": 52
        }
      },
      "source": [
        "import numpy as np\n",
        "\n",
        "def category(v):\n",
        "  if v =='positive': \n",
        "    return 1\n",
        "  else:\n",
        "    return 0\n",
        "\n",
        "y = np.array(list(map(category, data['sentiment'])))\n",
        "x = np.zeros((len(data), len(word_dict2)))\n",
        "\n",
        "# Make X\n",
        "for i, d in enumerate(data['review']):\n",
        "  sent = d.split(' ')\n",
        "  for w in sent:\n",
        "    try:\n",
        "      x[i][word_dict2[w][0]] +=1   \n",
        "    except:\n",
        "      pass\n",
        "\n",
        "# Normalize\n",
        "for i in range(x.shape[0]):\n",
        "  v = sum(x[i,:])\n",
        "  for j in range(x.shape[1]):\n",
        "    x[i,j] = x[i,j] / v\n",
        "print(f\"X:{x.shape}\")\n",
        "print(f\"y:{y.shape}\")"
      ],
      "execution_count": 0,
      "outputs": [
        {
          "output_type": "stream",
          "text": [
            "X:(50000, 2911)\n",
            "y:(50000,)\n"
          ],
          "name": "stdout"
        }
      ]
    },
    {
      "cell_type": "code",
      "metadata": {
        "id": "KTS72aFD0RGi",
        "colab_type": "code",
        "outputId": "c545321a-c0a7-492d-b20b-df9cef357d64",
        "colab": {
          "base_uri": "https://localhost:8080/",
          "height": 282
        }
      },
      "source": [
        "import matplotlib.pyplot as plt\n",
        "plt.plot(x[100])"
      ],
      "execution_count": 0,
      "outputs": [
        {
          "output_type": "execute_result",
          "data": {
            "text/plain": [
              "[<matplotlib.lines.Line2D at 0x7efcf8344390>]"
            ]
          },
          "metadata": {
            "tags": []
          },
          "execution_count": 87
        },
        {
          "output_type": "display_data",
          "data": {
            "image/png": "[encoded data removed]",
            "text/plain": [
              "<Figure size 432x288 with 1 Axes>"
            ]
          },
          "metadata": {
            "tags": [],
            "needs_background": "light"
          }
        }
      ]
    },
    {
      "cell_type": "code",
      "metadata": {
        "id": "hFA-lOw-xeX1",
        "colab_type": "code",
        "colab": {}
      },
      "source": [
        "A = np.concatenate((x, np.ones((len(x),1))), axis=1) # OLS\n",
        "m = np.linalg.lstsq(A, y, rcond=None)"
      ],
      "execution_count": 0,
      "outputs": []
    },
    {
      "cell_type": "code",
      "metadata": {
        "id": "2MAtKMsczvGJ",
        "colab_type": "code",
        "outputId": "e8e5161f-b40e-424b-c882-5f3a3704e188",
        "colab": {
          "base_uri": "https://localhost:8080/",
          "height": 282
        }
      },
      "source": [
        "plt.plot(m[0])"
      ],
      "execution_count": 0,
      "outputs": [
        {
          "output_type": "execute_result",
          "data": {
            "text/plain": [
              "[<matplotlib.lines.Line2D at 0x7efcf8382da0>]"
            ]
          },
          "metadata": {
            "tags": []
          },
          "execution_count": 89
        },
        {
          "output_type": "display_data",
          "data": {
            "image/png": "[encoded data removed]",
            "text/plain": [
              "<Figure size 432x288 with 1 Axes>"
            ]
          },
          "metadata": {
            "tags": [],
            "needs_background": "light"
          }
        }
      ]
    },
    {
      "cell_type": "code",
      "metadata": {
        "id": "WNbbh41m2XrO",
        "colab_type": "code",
        "outputId": "8c611636-2a88-4c6b-b43d-6717342bf3e7",
        "colab": {
          "base_uri": "https://localhost:8080/",
          "height": 247
        }
      },
      "source": [
        "for i in range(len(m[0])-2):\n",
        "  if m[0][i]> 6:\n",
        "    print(list(word_dict2.keys())[i])"
      ],
      "execution_count": 0,
      "outputs": [
        {
          "output_type": "stream",
          "text": [
            "pulls\n",
            "8\n",
            "haunting\n",
            "wonderfully\n",
            "entertain\n",
            "refreshing\n",
            "810\n",
            "patient\n",
            "unexpected\n",
            "subtitles\n",
            "nevertheless\n",
            "raw\n",
            "appreciated\n"
          ],
          "name": "stdout"
        }
      ]
    },
    {
      "cell_type": "code",
      "metadata": {
        "id": "0xaY0iGI3OD5",
        "colab_type": "code",
        "outputId": "500090f4-cbe2-483c-e5d2-aea16b1ddc19",
        "colab": {
          "base_uri": "https://localhost:8080/",
          "height": 283
        }
      },
      "source": [
        "for i in range(len(m[0])):\n",
        "  if m[0][i]< -8:\n",
        "    print(list(word_dict2.keys())[i])"
      ],
      "execution_count": 0,
      "outputs": [
        {
          "output_type": "stream",
          "text": [
            "mildly\n",
            "fails\n",
            "disappointment\n",
            "clichéd\n",
            "insult\n",
            "tedious\n",
            "credibility\n",
            "obnoxious\n",
            "disappointing\n",
            "unconvincing\n",
            "forgettable\n",
            "bland\n",
            "endless\n",
            "lacks\n",
            "mediocre\n"
          ],
          "name": "stdout"
        }
      ]
    },
    {
      "cell_type": "code",
      "metadata": {
        "id": "pIXRfUhU4RSE",
        "colab_type": "code",
        "outputId": "d096a325-b8f9-4981-f4a4-5e4e1cf3d915",
        "colab": {
          "base_uri": "https://localhost:8080/",
          "height": 34
        }
      },
      "source": [
        "word_dict2['like']"
      ],
      "execution_count": 0,
      "outputs": [
        {
          "output_type": "execute_result",
          "data": {
            "text/plain": [
              "[244, 38823]"
            ]
          },
          "metadata": {
            "tags": []
          },
          "execution_count": 93
        }
      ]
    },
    {
      "cell_type": "code",
      "metadata": {
        "id": "c2jtuBrQ4XLz",
        "colab_type": "code",
        "colab": {}
      },
      "source": [
        "def evaluate1(sent):\n",
        "  v = 0\n",
        "  normal = 0\n",
        "  for w in sent.split(' '):\n",
        "      if w in word_dict2:\n",
        "        normal +=1\n",
        "\n",
        "  for w in sent.split(' '):\n",
        "    try:\n",
        "      index = word_dict2[w][0]\n",
        "      value = word_dict2[w][1]/normal\n",
        "      v += m[0][index]*value \n",
        "    except:\n",
        "      pass\n",
        "  return v+ m[0][-1]"
      ],
      "execution_count": 0,
      "outputs": []
    },
    {
      "cell_type": "code",
      "metadata": {
        "id": "HomxGVHq7emB",
        "colab_type": "code",
        "outputId": "1c12e903-c9aa-4c14-d5f0-cb1f83119975",
        "colab": {
          "base_uri": "https://localhost:8080/",
          "height": 194
        }
      },
      "source": [
        "for i in range(1,20,2):\n",
        "  print(i, evaluate1(data['review'][i]), data.loc[i, 'sentiment'])"
      ],
      "execution_count": 0,
      "outputs": [
        {
          "output_type": "stream",
          "text": [
            "1 3606.104262378687 positive\n",
            "3 -473.56102685271003 negative\n",
            "5 2982.477008089542 positive\n",
            "7 830.9386294064149 negative\n",
            "9 864.1679123155493 positive\n",
            "11 330.61470122186466 negative\n",
            "13 -1109.4580777205874 negative\n",
            "15 -1299.654641831774 negative\n",
            "17 -2992.394846148181 negative\n",
            "19 -1784.727921313392 negative\n"
          ],
          "name": "stdout"
        }
      ]
    },
    {
      "cell_type": "code",
      "metadata": {
        "id": "IIE7e31U7lI8",
        "colab_type": "code",
        "colab": {}
      },
      "source": [
        "data['evaluate'] = 0\n",
        "for d in range(len(data)):\n",
        "  data.loc[d, 'evaluate'] = evaluate1(data.loc[d,'review'])"
      ],
      "execution_count": 0,
      "outputs": []
    },
    {
      "cell_type": "code",
      "metadata": {
        "id": "YCkCGC0Z7qk9",
        "colab_type": "code",
        "outputId": "3ffdb6aa-adf0-4f3e-9d02-f6daa4339cb9",
        "colab": {
          "base_uri": "https://localhost:8080/",
          "height": 386
        }
      },
      "source": [
        "import seaborn as sns\n",
        "\n",
        "sns.catplot(x=\"sentiment\", y=\"evaluate\", kind=\"box\", data=data)"
      ],
      "execution_count": 0,
      "outputs": [
        {
          "output_type": "execute_result",
          "data": {
            "text/plain": [
              "<seaborn.axisgrid.FacetGrid at 0x7efcf3a7e240>"
            ]
          },
          "metadata": {
            "tags": []
          },
          "execution_count": 97
        },
        {
          "output_type": "display_data",
          "data": {
            "image/png": "[encoded data removed]",
            "text/plain": [
              "<Figure size 360x360 with 1 Axes>"
            ]
          },
          "metadata": {
            "tags": [],
            "needs_background": "light"
          }
        }
      ]
    },
    {
      "cell_type": "code",
      "metadata": {
        "id": "IaX6dxziiDoD",
        "colab_type": "code",
        "outputId": "8e58e907-7ee2-4d7d-8976-ac4a9d1b3a76",
        "colab": {
          "base_uri": "https://localhost:8080/",
          "height": 34
        }
      },
      "source": [
        "from sklearn.svm import LinearSVC\n",
        "from sklearn.model_selection import train_test_split\n",
        "\n",
        "X_train, X_test, y_train, y_test = train_test_split(x, y, test_size=.3,random_state=0)\n",
        "\n",
        "classifier = LinearSVC(random_state=0, tol=1e-5, verbose=1)\n",
        "y_score = classifier.fit(X_train, y_train).decision_function(X_test)\n"
      ],
      "execution_count": 0,
      "outputs": [
        {
          "output_type": "stream",
          "text": [
            "[LibLinear]"
          ],
          "name": "stdout"
        }
      ]
    },
    {
      "cell_type": "code",
      "metadata": {
        "id": "AjX9Xs2PupOK",
        "colab_type": "code",
        "outputId": "b918c0f9-58bb-479e-9229-ba77866d9343",
        "colab": {
          "base_uri": "https://localhost:8080/",
          "height": 34
        }
      },
      "source": [
        "from sklearn.metrics import accuracy_score\n",
        "\n",
        "print(f\"Accuracy: {accuracy_score(classifier.predict(X_test),y_test)}\")"
      ],
      "execution_count": 0,
      "outputs": [
        {
          "output_type": "stream",
          "text": [
            "Accuracy: 0.8519333333333333\n"
          ],
          "name": "stdout"
        }
      ]
    },
    {
      "cell_type": "code",
      "metadata": {
        "id": "87S7YNZOmVVB",
        "colab_type": "code",
        "outputId": "96de485e-78bf-40e5-c870-95bb430e486b",
        "colab": {
          "base_uri": "https://localhost:8080/",
          "height": 513
        }
      },
      "source": [
        "from sklearn.metrics import roc_auc_score\n",
        "from sklearn.metrics import roc_curve, auc\n",
        "import matplotlib.pyplot as plt\n",
        "\n",
        "# Compute ROC curve and ROC area for each class\n",
        "\n",
        "fpr, tpr, _ = roc_curve(y_test[:], y_score[:])\n",
        "roc_auc = auc(fpr, tpr)\n",
        "\n",
        "\n",
        "# Compute micro-average ROC curve and ROC area\n",
        "#fpr[\"micro\"], tpr[\"micro\"], _ = roc_curve(y_test.ravel(), y_score.ravel())\n",
        "#roc_auc[\"micro\"] = auc(fpr[\"micro\"], tpr[\"micro\"])\n",
        "\n",
        "\n",
        "plt.figure(figsize=(8,8))\n",
        "lw = 2\n",
        "plt.plot(fpr, tpr, color='darkorange',\n",
        "         lw=lw, label='ROC curve (area = %0.2f)' % roc_auc)\n",
        "plt.plot([0, 1], [0, 1], color='navy', lw=lw, linestyle='--')\n",
        "plt.xlim([0.0, 1.0])\n",
        "plt.ylim([0.0, 1.05])\n",
        "plt.xlabel('False Positive Rate')\n",
        "plt.ylabel('True Positive Rate')\n",
        "plt.title('Receiver operating characteristic')\n",
        "plt.legend(loc=\"lower right\")\n",
        "plt.show()"
      ],
      "execution_count": 0,
      "outputs": [
        {
          "output_type": "display_data",
          "data": {
            "image/png": "[encoded data removed]",
            "text/plain": [
              "<Figure size 576x576 with 1 Axes>"
            ]
          },
          "metadata": {
            "tags": [],
            "needs_background": "light"
          }
        }
      ]
    },
    {
      "cell_type": "markdown",
      "metadata": {
        "id": "wynBwJNFwy4R",
        "colab_type": "text"
      },
      "source": [
        "# Smaller Dictionary 500~ 50000 Frequency\n",
        "\n",
        "위에서는 300~ 50000 Frequency"
      ]
    },
    {
      "cell_type": "code",
      "metadata": {
        "id": "tBzxtAdWwxzt",
        "colab_type": "code",
        "colab": {}
      },
      "source": [
        "LOWER = 500\n",
        "UPPER = 50005\n",
        "word_dict3 = {}\n",
        "number = 0\n",
        "for w in word_dict:\n",
        "  if LOWER < word_dict[w][1] < UPPER:\n",
        "    word_dict3[w] = word_dict[w]\n",
        "    word_dict3[w][0] = number\n",
        "    number+=1"
      ],
      "execution_count": 0,
      "outputs": []
    },
    {
      "cell_type": "code",
      "metadata": {
        "id": "vFuCisaow4hz",
        "colab_type": "code",
        "outputId": "0bc69cce-93f1-4829-9296-114786bd945c",
        "colab": {
          "base_uri": "https://localhost:8080/",
          "height": 52
        }
      },
      "source": [
        "import numpy as np\n",
        "\n",
        "def category(v):\n",
        "  if v =='positive': \n",
        "    return 1\n",
        "  else:\n",
        "    return 0\n",
        "\n",
        "y3 = np.array(list(map(category, data['sentiment'])))\n",
        "x3 = np.zeros((len(data), len(word_dict3)))\n",
        "\n",
        "# Make X\n",
        "for i, d in enumerate(data['review']):\n",
        "  sent = d.split(' ')\n",
        "  for w in sent:\n",
        "    try:\n",
        "      x3[i][word_dict3[w][0]] +=1   \n",
        "    except:\n",
        "      pass\n",
        "\n",
        "# Normalize\n",
        "for i in range(x3.shape[0]):\n",
        "  v = sum(x3[i,:])\n",
        "  for j in range(x3.shape[1]):\n",
        "    if v >0:\n",
        "      x3[i,j] = x3[i,j] / v\n",
        "print(f\"X:{x3.shape}\")\n",
        "print(f\"y:{y3.shape}\")"
      ],
      "execution_count": 0,
      "outputs": [
        {
          "output_type": "stream",
          "text": [
            "X:(50000, 1901)\n",
            "y:(50000,)\n"
          ],
          "name": "stdout"
        }
      ]
    },
    {
      "cell_type": "code",
      "metadata": {
        "id": "-B9reMDrxHZg",
        "colab_type": "code",
        "colab": {}
      },
      "source": [
        "A3 = np.concatenate((x3, np.ones((len(x3),1))), axis=1) # OLS\n",
        "m3 = np.linalg.lstsq(A3, y3, rcond=None)"
      ],
      "execution_count": 0,
      "outputs": []
    },
    {
      "cell_type": "code",
      "metadata": {
        "id": "s3WsOgrkxMiR",
        "colab_type": "code",
        "colab": {}
      },
      "source": [
        "def evaluate3(sent):\n",
        "  v = 0\n",
        "  normal = 0\n",
        "  for w in sent.split(' '):\n",
        "      if w in word_dict3:\n",
        "        normal +=1\n",
        "\n",
        "  for w in sent.split(' '):\n",
        "    try:\n",
        "      index = word_dict3[w][0]\n",
        "      value = word_dict3[w][1]/normal\n",
        "      v += m3[0][index]*value \n",
        "    except:\n",
        "      pass\n",
        "  return v+ m3[0][-1]"
      ],
      "execution_count": 0,
      "outputs": []
    },
    {
      "cell_type": "code",
      "metadata": {
        "id": "c3uBf1WGxYvs",
        "colab_type": "code",
        "colab": {}
      },
      "source": [
        "data['evaluate'] = 0\n",
        "for d in range(len(data)):\n",
        "  data.loc[d, 'evaluate'] = evaluate3(data.loc[d,'review'])"
      ],
      "execution_count": 0,
      "outputs": []
    },
    {
      "cell_type": "code",
      "metadata": {
        "id": "U_YiTaMwxaUB",
        "colab_type": "code",
        "outputId": "3b43ee4f-5d88-4e5d-e080-789356266bb4",
        "colab": {
          "base_uri": "https://localhost:8080/",
          "height": 386
        }
      },
      "source": [
        "import seaborn as sns\n",
        "\n",
        "sns.catplot(x=\"sentiment\", y=\"evaluate\", kind=\"box\", data=data)"
      ],
      "execution_count": 0,
      "outputs": [
        {
          "output_type": "execute_result",
          "data": {
            "text/plain": [
              "<seaborn.axisgrid.FacetGrid at 0x7efcfa304b70>"
            ]
          },
          "metadata": {
            "tags": []
          },
          "execution_count": 116
        },
        {
          "output_type": "display_data",
          "data": {
            "image/png": "[encoded data removed]",
            "text/plain": [
              "<Figure size 360x360 with 1 Axes>"
            ]
          },
          "metadata": {
            "tags": [],
            "needs_background": "light"
          }
        }
      ]
    },
    {
      "cell_type": "code",
      "metadata": {
        "id": "UUfa3S6Vxc1g",
        "colab_type": "code",
        "outputId": "20c0aa38-b035-4cd3-9d8c-e51735274876",
        "colab": {
          "base_uri": "https://localhost:8080/",
          "height": 34
        }
      },
      "source": [
        "from sklearn.svm import LinearSVC\n",
        "from sklearn.model_selection import train_test_split\n",
        "\n",
        "X_train, X_test, y_train, y_test = train_test_split(x3, y3, test_size=.3,random_state=0)\n",
        "\n",
        "classifier = LinearSVC(random_state=0, tol=1e-5, verbose=1)\n",
        "y_score = classifier.fit(X_train, y_train).decision_function(X_test)\n"
      ],
      "execution_count": 0,
      "outputs": [
        {
          "output_type": "stream",
          "text": [
            "[LibLinear]"
          ],
          "name": "stdout"
        }
      ]
    },
    {
      "cell_type": "code",
      "metadata": {
        "id": "gL9D1prKxhbe",
        "colab_type": "code",
        "outputId": "bca0f349-d514-42a7-e265-a77908a6f220",
        "colab": {
          "base_uri": "https://localhost:8080/",
          "height": 34
        }
      },
      "source": [
        "from sklearn.metrics import accuracy_score\n",
        "\n",
        "print(f\"Accuracy: {accuracy_score(classifier.predict(X_test),y_test)}\")"
      ],
      "execution_count": 0,
      "outputs": [
        {
          "output_type": "stream",
          "text": [
            "Accuracy: 0.8508\n"
          ],
          "name": "stdout"
        }
      ]
    },
    {
      "cell_type": "code",
      "metadata": {
        "id": "VTSBMapVxkXe",
        "colab_type": "code",
        "outputId": "4d5bc870-346f-4d5f-a472-d86e1c9ce482",
        "colab": {
          "base_uri": "https://localhost:8080/",
          "height": 513
        }
      },
      "source": [
        "from sklearn.metrics import roc_auc_score\n",
        "from sklearn.metrics import roc_curve, auc\n",
        "import matplotlib.pyplot as plt\n",
        "\n",
        "\n",
        "# Compute ROC curve and ROC area for each class\n",
        "\n",
        "fpr, tpr, _ = roc_curve(y_test[:], y_score[:])\n",
        "roc_auc = auc(fpr, tpr)\n",
        "\n",
        "\n",
        "\n",
        "plt.figure(figsize=(8,8))\n",
        "lw = 2\n",
        "plt.plot(fpr, tpr, color='darkorange',\n",
        "         lw=lw, label='ROC curve (area = %0.2f)' % roc_auc)\n",
        "plt.plot([0, 1], [0, 1], color='navy', lw=lw, linestyle='--')\n",
        "plt.xlim([0.0, 1.0])\n",
        "plt.ylim([0.0, 1.05])\n",
        "plt.xlabel('False Positive Rate')\n",
        "plt.ylabel('True Positive Rate')\n",
        "plt.title('Receiver operating characteristic')\n",
        "plt.legend(loc=\"lower right\")\n",
        "plt.show()"
      ],
      "execution_count": 0,
      "outputs": [
        {
          "output_type": "display_data",
          "data": {
            "image/png": "[encoded data removed]",
            "text/plain": [
              "<Figure size 576x576 with 1 Axes>"
            ]
          },
          "metadata": {
            "tags": [],
            "needs_background": "light"
          }
        }
      ]
    }
  ]
}